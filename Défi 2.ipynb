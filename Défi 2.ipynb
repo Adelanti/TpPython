{
 "cells": [
  {
   "cell_type": "code",
   "execution_count": 1,
   "metadata": {},
   "outputs": [],
   "source": [
    "def minprod(k):  # la fonction minprod calcul le nbr min d'iteration pour calculer le k\n",
    "    liste=[]  # la liste contient les nombres qu'on a déja calculer \n",
    "    mp=0;t=1;p=1;liste.append(p);q=1\n",
    "    if(k==1):\n",
    "        return 0\n",
    "    if(k%2!=0):\n",
    "        q=0  # le q est une variables qui retourn 0 si le k est impair et 1 sinonq\n",
    "    while(t<k):\n",
    "        if(q==0)and(mp==1):\n",
    "            p=p+1;liste.append(p);t=p;mp=mp+1;q=1\n",
    "        i=len(liste)-1\n",
    "        if(t+p>k):\n",
    "            while(i>=0):\n",
    "                if(liste[i]+t>k):\n",
    "                    i=i-1\n",
    "                else:\n",
    "                    t=t+liste[i];mp=mp+1\n",
    "        else:\n",
    "            t=t+p;p=p*2;mp=mp+1;liste.append(p)\n",
    "    return mp"
   ]
  },
  {
   "cell_type": "code",
   "execution_count": 2,
   "metadata": {},
   "outputs": [],
   "source": [
    "def sommeminprod():\n",
    "    j=1;somme=0\n",
    "    for j in range(200):\n",
    "        somme=somme+minprod(j) # minprod c'est la fonction qu'on a déja définie\n",
    "    return somme"
   ]
  },
  {
   "cell_type": "code",
   "execution_count": 3,
   "metadata": {},
   "outputs": [
    {
     "data": {
      "text/plain": [
       "1677"
      ]
     },
     "execution_count": 3,
     "metadata": {},
     "output_type": "execute_result"
    }
   ],
   "source": [
    "sommeminprod()"
   ]
  },
  {
   "cell_type": "code",
   "execution_count": null,
   "metadata": {},
   "outputs": [],
   "source": []
  }
 ],
 "metadata": {
  "kernelspec": {
   "display_name": "Python 3",
   "language": "python",
   "name": "python3"
  },
  "language_info": {
   "codemirror_mode": {
    "name": "ipython",
    "version": 3
   },
   "file_extension": ".py",
   "mimetype": "text/x-python",
   "name": "python",
   "nbconvert_exporter": "python",
   "pygments_lexer": "ipython3",
   "version": "3.5.2"
  }
 },
 "nbformat": 4,
 "nbformat_minor": 2
}
