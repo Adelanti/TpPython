{
 "cells": [
  {
   "cell_type": "code",
   "execution_count": 1,
   "metadata": {},
   "outputs": [],
   "source": [
    "from math import*"
   ]
  },
  {
   "cell_type": "code",
   "execution_count": 2,
   "metadata": {},
   "outputs": [],
   "source": [
    "def mult(liste):#la fonction mult return 1 si le produit des elements d'un ens est un carré parfait et 0 sinon \n",
    "    r=1\n",
    "    if liste==[]:\n",
    "        return 0\n",
    "    if len(liste)==1 :\n",
    "        if sqrt(liste[0])-int(sqrt(liste[0]))==0 :\n",
    "            return 1\n",
    "        else :\n",
    "            return 0\n",
    "    for element in liste:\n",
    "        r *= element\n",
    "    if(sqrt(r)-int(sqrt(r))==0):\n",
    "        return 1\n",
    "    else :\n",
    "        return 0"
   ]
  },
  {
   "cell_type": "code",
   "execution_count": 3,
   "metadata": {},
   "outputs": [],
   "source": [
    "def list_powerset(lst):\n",
    "    result=[[]]\n",
    "    for x in lst :\n",
    "        result.extend([subset + [x] for subset in result])\n",
    "    a=0;b=len(result);c=0\n",
    "    while(a<b):\n",
    "        c=c+mult(result[a])\n",
    "        a=a+1\n",
    "    return c"
   ]
  },
  {
   "cell_type": "code",
   "execution_count": 4,
   "metadata": {},
   "outputs": [],
   "source": [
    "def C(x,y):\n",
    "    l=[];i=x\n",
    "    while(i<y+1):\n",
    "        l.append(i)\n",
    "        i=i+1\n",
    "    return list_powerset(l)"
   ]
  },
  {
   "cell_type": "code",
   "execution_count": 5,
   "metadata": {},
   "outputs": [
    {
     "data": {
      "text/plain": [
       "3"
      ]
     },
     "execution_count": 5,
     "metadata": {},
     "output_type": "execute_result"
    }
   ],
   "source": [
    "C(5,10)"
   ]
  },
  {
   "cell_type": "code",
   "execution_count": 6,
   "metadata": {},
   "outputs": [
    {
     "data": {
      "text/plain": [
       "15"
      ]
     },
     "execution_count": 6,
     "metadata": {},
     "output_type": "execute_result"
    }
   ],
   "source": [
    "C(40,55)"
   ]
  },
  {
   "cell_type": "code",
   "execution_count": null,
   "metadata": {},
   "outputs": [],
   "source": []
  }
 ],
 "metadata": {
  "kernelspec": {
   "display_name": "Python 3",
   "language": "python",
   "name": "python3"
  },
  "language_info": {
   "codemirror_mode": {
    "name": "ipython",
    "version": 3
   },
   "file_extension": ".py",
   "mimetype": "text/x-python",
   "name": "python",
   "nbconvert_exporter": "python",
   "pygments_lexer": "ipython3",
   "version": "3.5.2"
  }
 },
 "nbformat": 4,
 "nbformat_minor": 2
}
